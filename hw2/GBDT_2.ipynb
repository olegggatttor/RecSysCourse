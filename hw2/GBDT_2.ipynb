{
 "cells": [
  {
   "cell_type": "code",
   "execution_count": 1,
   "id": "collectible-dublin",
   "metadata": {
    "id": "collectible-dublin"
   },
   "outputs": [],
   "source": [
    "import pandas as pd\n",
    "import matplotlib.pyplot as plt\n",
    "import numpy as np\n",
    "from catboost import CatBoost, Pool, MetricVisualizer\n",
    "from copy import deepcopy\n",
    "from sklearn import metrics\n",
    "from collections import Counter\n",
    "from sklearn.model_selection import KFold, train_test_split\n",
    "import shap"
   ]
  },
  {
   "cell_type": "code",
   "execution_count": 2,
   "id": "acknowledged-checklist",
   "metadata": {
    "id": "acknowledged-checklist"
   },
   "outputs": [],
   "source": [
    "def plot_column_count(df, column_name):\n",
    "    data = df[column_name].value_counts()\n",
    "\n",
    "    fig, ax = plt.subplots()\n",
    "    ax.scatter(data.index, data, s = 7)\n",
    "    ax.set_xlabel(column_name)\n",
    "    ax.set_ylabel('Amount')\n",
    "    fig.set_figwidth(7)\n",
    "    fig.set_figheight(4)\n",
    "    plt.show()"
   ]
  },
  {
   "cell_type": "code",
   "execution_count": 3,
   "id": "black-floor",
   "metadata": {
    "id": "black-floor"
   },
   "outputs": [],
   "source": [
    "members = pd.read_csv('data/members.csv', parse_dates=['registration_init_time', 'expiration_date'])\n",
    "songs = pd.read_csv('data/songs.csv')\n",
    "song_extra_info = pd.read_csv('data/song_extra_info.csv')\n",
    "test = pd.read_csv('data/test.csv')\n",
    "train = pd.read_csv('data/train.csv')"
   ]
  },
  {
   "cell_type": "code",
   "execution_count": 4,
   "id": "unlimited-amsterdam",
   "metadata": {},
   "outputs": [
    {
     "data": {
      "text/plain": [
       "2556790"
      ]
     },
     "execution_count": 4,
     "metadata": {},
     "output_type": "execute_result"
    }
   ],
   "source": [
    "len(test)"
   ]
  },
  {
   "cell_type": "code",
   "execution_count": 5,
   "id": "L6LNfnxFSl0p",
   "metadata": {
    "colab": {
     "base_uri": "https://localhost:8080/"
    },
    "id": "L6LNfnxFSl0p",
    "outputId": "958b7553-807c-4839-dac5-6b70bf2f14b1"
   },
   "outputs": [
    {
     "data": {
      "text/plain": [
       "msno                              object\n",
       "city                               int64\n",
       "bd                                 int64\n",
       "gender                            object\n",
       "registered_via                     int64\n",
       "registration_init_time    datetime64[ns]\n",
       "expiration_date           datetime64[ns]\n",
       "dtype: object"
      ]
     },
     "execution_count": 5,
     "metadata": {},
     "output_type": "execute_result"
    }
   ],
   "source": [
    "members.dtypes"
   ]
  },
  {
   "cell_type": "markdown",
   "id": "smaller-interim",
   "metadata": {
    "id": "smaller-interim"
   },
   "source": [
    "### Preprocessing"
   ]
  },
  {
   "cell_type": "code",
   "execution_count": 6,
   "id": "fitting-revision",
   "metadata": {
    "colab": {
     "base_uri": "https://localhost:8080/"
    },
    "id": "fitting-revision",
    "outputId": "d77d3794-e4e2-4e29-ed82-d7a309db7b2a"
   },
   "outputs": [
    {
     "data": {
      "text/plain": [
       "msno                  0.000000\n",
       "song_id               0.000000\n",
       "source_system_tab     0.336825\n",
       "source_screen_name    5.622618\n",
       "source_type           0.291959\n",
       "target                0.000000\n",
       "dtype: float64"
      ]
     },
     "execution_count": 6,
     "metadata": {},
     "output_type": "execute_result"
    }
   ],
   "source": [
    "train.isnull().sum() * 100 / len(train)"
   ]
  },
  {
   "cell_type": "code",
   "execution_count": 7,
   "id": "assisted-shanghai",
   "metadata": {
    "id": "assisted-shanghai"
   },
   "outputs": [],
   "source": [
    "train['source_system_tab'] =  train['source_system_tab'].fillna(train['source_system_tab'].value_counts().index[0])\n",
    "train['source_screen_name'] =  train['source_screen_name'].fillna(train['source_screen_name'].value_counts().index[0])\n",
    "train['source_type'] =  train['source_type'].fillna(train['source_type'].value_counts().index[0])"
   ]
  },
  {
   "cell_type": "code",
   "execution_count": 8,
   "id": "enormous-license",
   "metadata": {
    "colab": {
     "base_uri": "https://localhost:8080/"
    },
    "id": "enormous-license",
    "outputId": "dd750e7a-4026-4815-d539-987967941a9f"
   },
   "outputs": [
    {
     "data": {
      "text/plain": [
       "id                    0.000000\n",
       "msno                  0.000000\n",
       "song_id               0.000000\n",
       "source_system_tab     0.330180\n",
       "source_screen_name    6.370605\n",
       "source_type           0.285397\n",
       "dtype: float64"
      ]
     },
     "execution_count": 8,
     "metadata": {},
     "output_type": "execute_result"
    }
   ],
   "source": [
    "test.isnull().sum() * 100 / len(test)"
   ]
  },
  {
   "cell_type": "code",
   "execution_count": 9,
   "id": "handmade-honey",
   "metadata": {
    "id": "handmade-honey"
   },
   "outputs": [],
   "source": [
    "test['source_system_tab'] =  test['source_system_tab'].fillna(test['source_system_tab'].value_counts().index[0])\n",
    "test['source_screen_name'] =  test['source_screen_name'].fillna(test['source_screen_name'].value_counts().index[0])\n",
    "test['source_type'] =  test['source_type'].fillna(test['source_type'].value_counts().index[0])"
   ]
  },
  {
   "cell_type": "code",
   "execution_count": 10,
   "id": "quick-construction",
   "metadata": {
    "id": "quick-construction"
   },
   "outputs": [],
   "source": [
    "members['day_of_registration'] = (members['registration_init_time'] - pd.to_datetime('1-1-2000')).dt.days\n",
    "members['day_of_expiration'] = (members['expiration_date'] - pd.to_datetime('1-1-2000')).dt.days\n",
    "members['subscription_length'] = members['day_of_expiration'] - members['day_of_registration']\n",
    "\n",
    "del members['day_of_expiration']\n",
    "del members['day_of_registration']\n",
    "\n",
    "members = members.drop(['registration_init_time', 'expiration_date'], axis=1)"
   ]
  },
  {
   "cell_type": "markdown",
   "id": "transsexual-weapon",
   "metadata": {
    "id": "transsexual-weapon"
   },
   "source": [
    "#### Не очень информативынй признак- много нулей. Дропаем."
   ]
  },
  {
   "cell_type": "code",
   "execution_count": 11,
   "id": "canadian-speech",
   "metadata": {
    "colab": {
     "base_uri": "https://localhost:8080/",
     "height": 279
    },
    "id": "canadian-speech",
    "outputId": "7f97002f-0a53-45ff-894a-adacf6e9c0c7"
   },
   "outputs": [
    {
     "data": {
      "image/png": "[encoded data removed]",
      "text/plain": [
       "<Figure size 504x288 with 1 Axes>"
      ]
     },
     "metadata": {
      "needs_background": "light"
     },
     "output_type": "display_data"
    }
   ],
   "source": [
    "plot_column_count(members, 'bd')"
   ]
  },
  {
   "cell_type": "code",
   "execution_count": 12,
   "id": "soviet-partner",
   "metadata": {
    "id": "soviet-partner"
   },
   "outputs": [],
   "source": [
    "members = members.drop('bd', axis=1)"
   ]
  },
  {
   "cell_type": "markdown",
   "id": "agreed-cheese",
   "metadata": {
    "id": "agreed-cheese"
   },
   "source": [
    "#### Такая же ситуация с генедером."
   ]
  },
  {
   "cell_type": "code",
   "execution_count": 13,
   "id": "alternative-detector",
   "metadata": {
    "colab": {
     "base_uri": "https://localhost:8080/",
     "height": 279
    },
    "id": "alternative-detector",
    "outputId": "3fbf225b-aa7d-46b3-d7c0-645fe9188df4"
   },
   "outputs": [
    {
     "data": {
      "image/png": "[encoded data removed]",
      "text/plain": [
       "<Figure size 504x288 with 1 Axes>"
      ]
     },
     "metadata": {
      "needs_background": "light"
     },
     "output_type": "display_data"
    }
   ],
   "source": [
    "members['gender'] = members['gender'].fillna('unknown')\n",
    "plot_column_count(members, 'gender')"
   ]
  },
  {
   "cell_type": "code",
   "execution_count": 14,
   "id": "boring-moscow",
   "metadata": {
    "id": "boring-moscow"
   },
   "outputs": [],
   "source": [
    "members = members.drop('gender', axis=1)"
   ]
  },
  {
   "cell_type": "markdown",
   "id": "quantitative-tsunami",
   "metadata": {
    "id": "quantitative-tsunami"
   },
   "source": [
    "#### Мерджим members c train по юзерам."
   ]
  },
  {
   "cell_type": "code",
   "execution_count": 15,
   "id": "searching-syntax",
   "metadata": {
    "id": "searching-syntax"
   },
   "outputs": [],
   "source": [
    "train_with_members = pd.merge(members, train, on='msno', how='inner')\n",
    "test_with_members = pd.merge(members, test, on='msno', how='inner')"
   ]
  },
  {
   "cell_type": "markdown",
   "id": "german-monthly",
   "metadata": {
    "id": "german-monthly"
   },
   "source": [
    "#### Мерджим songs c их extra фичами по song_id."
   ]
  },
  {
   "cell_type": "code",
   "execution_count": 16,
   "id": "improving-appearance",
   "metadata": {
    "id": "improving-appearance"
   },
   "outputs": [],
   "source": [
    "merged_extras = pd.merge(songs, song_extra_info, on='song_id', how='inner')"
   ]
  },
  {
   "cell_type": "code",
   "execution_count": 17,
   "id": "peripheral-zoning",
   "metadata": {
    "colab": {
     "base_uri": "https://localhost:8080/"
    },
    "id": "peripheral-zoning",
    "outputId": "edadc7df-23b6-48ed-b37c-fe2953c1da1e"
   },
   "outputs": [
    {
     "data": {
      "text/plain": [
       "song_id         0.000000\n",
       "song_length     0.000000\n",
       "genre_ids       4.098288\n",
       "artist_name     0.000000\n",
       "composer       46.655386\n",
       "lyricist       84.713094\n",
       "language        0.000044\n",
       "name            0.000087\n",
       "isrc            5.947926\n",
       "dtype: float64"
      ]
     },
     "execution_count": 17,
     "metadata": {},
     "output_type": "execute_result"
    }
   ],
   "source": [
    "merged_extras.isnull().sum() * 100 / len(merged_extras)"
   ]
  },
  {
   "cell_type": "markdown",
   "id": "perfect-implementation",
   "metadata": {
    "id": "perfect-implementation"
   },
   "source": [
    "#### Composer и Lyricist имеют много пропусков. Дропаем. Остальное заолняем самыми популярными знаениями."
   ]
  },
  {
   "cell_type": "code",
   "execution_count": 18,
   "id": "basic-river",
   "metadata": {
    "id": "basic-river"
   },
   "outputs": [],
   "source": [
    "merged_extras['genre_ids'] = merged_extras['genre_ids'].fillna(merged_extras['genre_ids'].value_counts().index[0])\n",
    "merged_extras['isrc'] = merged_extras['isrc'].fillna(merged_extras['isrc'].value_counts().index[0])\n",
    "merged_extras['language'] = merged_extras['language'].fillna(merged_extras['language'].value_counts().index[0])\n",
    "merged_extras['name'] = merged_extras['name'].fillna(merged_extras['name'].value_counts().index[0])\n",
    "merged_extras = merged_extras.drop(['lyricist', 'composer'], axis=1)"
   ]
  },
  {
   "cell_type": "markdown",
   "id": "opposed-change",
   "metadata": {
    "id": "opposed-change"
   },
   "source": [
    "#### Мерджим все вместе."
   ]
  },
  {
   "cell_type": "code",
   "execution_count": 19,
   "id": "frozen-deficit",
   "metadata": {
    "id": "frozen-deficit"
   },
   "outputs": [],
   "source": [
    "merged_train = pd.merge(train_with_members, merged_extras, on='song_id', how='inner')\n",
    "merged_test = pd.merge(test_with_members, merged_extras, on='song_id', how='left')"
   ]
  },
  {
   "cell_type": "code",
   "execution_count": 20,
   "id": "psychological-retreat",
   "metadata": {
    "colab": {
     "base_uri": "https://localhost:8080/"
    },
    "id": "psychological-retreat",
    "outputId": "0fcbec8d-477f-4275-c6fb-e856e822d891"
   },
   "outputs": [
    {
     "data": {
      "text/plain": [
       "msno                   0.0\n",
       "city                   0.0\n",
       "registered_via         0.0\n",
       "subscription_length    0.0\n",
       "song_id                0.0\n",
       "source_system_tab      0.0\n",
       "source_screen_name     0.0\n",
       "source_type            0.0\n",
       "target                 0.0\n",
       "song_length            0.0\n",
       "genre_ids              0.0\n",
       "artist_name            0.0\n",
       "language               0.0\n",
       "name                   0.0\n",
       "isrc                   0.0\n",
       "dtype: float64"
      ]
     },
     "execution_count": 20,
     "metadata": {},
     "output_type": "execute_result"
    }
   ],
   "source": [
    "merged_train.isnull().sum() * 100 / len(merged_train)"
   ]
  },
  {
   "cell_type": "code",
   "execution_count": 21,
   "id": "hydraulic-involvement",
   "metadata": {
    "colab": {
     "base_uri": "https://localhost:8080/"
    },
    "id": "hydraulic-involvement",
    "outputId": "92acf486-aa97-4475-fe2a-c1a939092251"
   },
   "outputs": [
    {
     "data": {
      "text/plain": [
       "msno                   0.000000\n",
       "city                   0.000000\n",
       "registered_via         0.000000\n",
       "subscription_length    0.000000\n",
       "id                     0.000000\n",
       "song_id                0.000000\n",
       "source_system_tab      0.000000\n",
       "source_screen_name     0.000000\n",
       "source_type            0.000000\n",
       "song_length            0.031133\n",
       "genre_ids              0.031133\n",
       "artist_name            0.031133\n",
       "language               0.031133\n",
       "name                   0.031133\n",
       "isrc                   0.031133\n",
       "dtype: float64"
      ]
     },
     "execution_count": 21,
     "metadata": {},
     "output_type": "execute_result"
    }
   ],
   "source": [
    "merged_test.isnull().sum() * 100 / len(merged_test)"
   ]
  },
  {
   "cell_type": "code",
   "execution_count": 22,
   "id": "impressive-amateur",
   "metadata": {},
   "outputs": [],
   "source": [
    "merged_test['song_length'] = merged_test['song_length'].fillna(np.mean(merged_test['song_length']))\n",
    "merged_test['genre_ids'] = merged_test['genre_ids'].fillna(merged_test['genre_ids'].value_counts().index[0])\n",
    "merged_test['language'] = merged_test['language'].fillna(merged_test['language'].value_counts().index[0])\n",
    "merged_test['isrc'] = merged_test['isrc'].fillna(merged_test['isrc'].value_counts().index[0])\n",
    "merged_test['name'] = merged_test['name'].fillna(merged_test['name'].value_counts().index[0])\n",
    "merged_test['artist_name'] = merged_test['artist_name'].fillna(merged_test['artist_name'].value_counts().index[0])"
   ]
  },
  {
   "cell_type": "code",
   "execution_count": 23,
   "id": "original-perfume",
   "metadata": {
    "id": "original-perfume"
   },
   "outputs": [],
   "source": [
    "merged_train = merged_train.dropna()"
   ]
  },
  {
   "cell_type": "markdown",
   "id": "nominated-raise",
   "metadata": {
    "id": "nominated-raise"
   },
   "source": [
    "### В некоторых записях жанры встречаются в виде genre_1|genre_2|...\n",
    "#### Выберем для каждой записи самый популярный жанр среди предложенных."
   ]
  },
  {
   "cell_type": "code",
   "execution_count": 24,
   "id": "impressed-executive",
   "metadata": {
    "id": "impressed-executive"
   },
   "outputs": [],
   "source": [
    "def split_genres(df):\n",
    "    c = Counter()\n",
    "    for row in df['genre_ids']:\n",
    "        for elem in row.split('|'):\n",
    "            c[elem] += 1\n",
    "    return c\n",
    "\n",
    "def recount_genres(df, values):\n",
    "    df['genre_ids'] = df['genre_ids'].apply(lambda row: list(sorted(row.split('|'), \n",
    "                                                                key=lambda x: values[x], \n",
    "                                                                reverse=True))[0])\n",
    "    return df"
   ]
  },
  {
   "cell_type": "code",
   "execution_count": 25,
   "id": "homeless-forty",
   "metadata": {
    "id": "homeless-forty"
   },
   "outputs": [],
   "source": [
    "train_genres = split_genres(merged_train)\n",
    "test_genres = split_genres(merged_test)"
   ]
  },
  {
   "cell_type": "code",
   "execution_count": 26,
   "id": "4zqJTKqtTBLa",
   "metadata": {
    "id": "4zqJTKqtTBLa"
   },
   "outputs": [],
   "source": [
    "merged_train = recount_genres(merged_train, train_genres)\n",
    "merged_test = recount_genres(merged_test, test_genres)"
   ]
  },
  {
   "cell_type": "markdown",
   "id": "contained-republican",
   "metadata": {
    "id": "contained-republican"
   },
   "source": [
    "#### ISRC содержит в себе полезную инфу - достанем все необходимое."
   ]
  },
  {
   "cell_type": "code",
   "execution_count": 27,
   "id": "suburban-document",
   "metadata": {
    "id": "suburban-document"
   },
   "outputs": [],
   "source": [
    "def decode_isrc(df):\n",
    "    df['country_code'] = df['isrc'].apply(lambda row: row[0:2])\n",
    "    df['reg_organisation'] = df['isrc'].apply(lambda row: row[2:5])\n",
    "    df['song_registration_year'] = df['isrc'].apply(lambda row: row[5:7])\n",
    "    df = df.drop('isrc', axis=1)\n",
    "    return df"
   ]
  },
  {
   "cell_type": "code",
   "execution_count": 197,
   "id": "hindu-alcohol",
   "metadata": {
    "id": "hindu-alcohol"
   },
   "outputs": [],
   "source": [
    "train = decode_isrc(merged_train)\n",
    "test = decode_isrc(merged_test)"
   ]
  },
  {
   "cell_type": "code",
   "execution_count": 29,
   "id": "VnIiHHC_ZJ5q",
   "metadata": {
    "id": "VnIiHHC_ZJ5q"
   },
   "outputs": [],
   "source": [
    "def change_types(df):\n",
    "    df['song_id'] = df['song_id'].astype('category')\n",
    "    df['city'] = df['city'].astype('uint32')\n",
    "    df['subscription_length'] = df['subscription_length'].astype('uint32')\n",
    "    df['registered_via'] = df['registered_via'].astype('category')\n",
    "    df['song_length'] = df['song_length'].astype('uint32')\n",
    "    df['genre_ids'] = df['genre_ids'].astype('category')\n",
    "    df['language'] = (df['language'].astype(int) + 1).astype('category')\n",
    "    df['song_registration_year'] = df['song_registration_year'].astype('category')\n",
    "    df['source_system_tab'] = df['source_system_tab'].astype('category')\n",
    "    df['source_screen_name'] = df['source_screen_name'].astype('category')\n",
    "    df['source_type'] = df['source_type'].astype('category')\n",
    "    df['country_code'] = df['country_code'].astype('category')\n",
    "    df['reg_organisation'] = df['reg_organisation'].astype('category')\n",
    "    df['artist_name'] = df['artist_name'].astype('category')\n",
    "    df['language_mode'] = (df['language_mode'].astype(int) + 1).astype('category')\n",
    "    df['genre_ids_mode'] = df['genre_ids_mode'].astype('category')\n",
    "    df['artist_name_mode'] = df['artist_name_mode'].astype('category')\n",
    "    return df"
   ]
  },
  {
   "cell_type": "code",
   "execution_count": 30,
   "id": "hungry-trailer",
   "metadata": {},
   "outputs": [],
   "source": [
    "def add_features(df):\n",
    "    commons_all = (df.groupby('msno')[['language', 'genre_ids', 'artist_name']]\n",
    "               .agg(lambda x: x.mode().iloc[0])).reset_index()\n",
    "    commons_all.columns = ['msno', 'language_mode', 'genre_ids_mode', 'artist_name_mode']\n",
    "\n",
    "    user_logs_sizes = df[['msno']].groupby('msno').size().reset_index()\n",
    "    user_logs_sizes.columns = ['msno', 'cnt']\n",
    "    \n",
    "    genres_user_counter = (df[['msno', 'genre_ids']]\n",
    "                            .value_counts(subset=['msno', 'genre_ids'])\n",
    "                            .reset_index())\n",
    "    genres_user_counter.columns = ['msno', 'genre_ids', 'genre_freq']\n",
    "    \n",
    "    language_user_counter = (df[['msno', 'language']]\n",
    "                            .value_counts(subset=['msno', 'language'])\n",
    "                            .reset_index())\n",
    "    language_user_counter.columns = ['msno', 'language', 'language_freq']\n",
    "\n",
    "    genre_freqs = pd.merge(genres_user_counter, user_logs_sizes, on='msno', how='inner')\n",
    "    genre_freqs['genre_freq'] /= genre_freqs['cnt']\n",
    "    genre_freqs = genre_freqs[['msno', 'genre_ids', 'genre_freq']]\n",
    "    \n",
    "    lang_freqs = pd.merge(language_user_counter, user_logs_sizes, on='msno', how='inner')\n",
    "    lang_freqs['language_freq'] /= lang_freqs['cnt']\n",
    "    lang_freqs = lang_freqs[['msno', 'language', 'language_freq']]\n",
    "    \n",
    "    df = pd.merge(df, genre_freqs, on=['msno', 'genre_ids'], how='inner')\n",
    "    df = pd.merge(df, lang_freqs, on=['msno', 'language'], how='inner')\n",
    "    df = pd.merge(df, commons_all, on='msno', how='inner')\n",
    "    \n",
    "    return df"
   ]
  },
  {
   "cell_type": "markdown",
   "id": "color-confidence",
   "metadata": {},
   "source": [
    "#### Добавим как фичи популярные жанры, артисты, языки песен у юзеров + посчитает для каждого юзера то, на сколько часто он слушает песни с тем или иным жанром/языком. (+ дропнем юезров, тк возникает сильно переобучение под них)."
   ]
  },
  {
   "cell_type": "code",
   "execution_count": 198,
   "id": "fifty-afternoon",
   "metadata": {},
   "outputs": [],
   "source": [
    "train = add_features(train).drop(['name'], axis=1)\n",
    "test = add_features(test).drop(['name'], axis=1)"
   ]
  },
  {
   "cell_type": "code",
   "execution_count": 199,
   "id": "missing-mouse",
   "metadata": {},
   "outputs": [],
   "source": [
    "train = change_types(train)\n",
    "test = change_types(test)"
   ]
  },
  {
   "cell_type": "code",
   "execution_count": 33,
   "id": "embedded-layer",
   "metadata": {},
   "outputs": [],
   "source": [
    "X = train.drop(['target', 'msno'], axis=1)\n",
    "y = train['target']"
   ]
  },
  {
   "cell_type": "code",
   "execution_count": 34,
   "id": "pacific-plaza",
   "metadata": {},
   "outputs": [],
   "source": [
    "# groups = [[], [], [], [], [], []]\n",
    "\n",
    "# for i, user in enumerate(X['msno'].unique()):\n",
    "#     groups[hash(str(user)) % 6].append(user)"
   ]
  },
  {
   "cell_type": "code",
   "execution_count": 45,
   "id": "needed-aruba",
   "metadata": {
    "id": "needed-aruba"
   },
   "outputs": [],
   "source": [
    "default_parameters = {\n",
    "    'iterations': 200,\n",
    "    'custom_metric': ['AUC'],\n",
    "    'verbose': True,\n",
    "    'random_seed': 0,\n",
    "    'task_type' : 'CPU',\n",
    "    'loss_function' : 'Logloss',\n",
    "    'train_dir' : 'Logloss',\n",
    "    'eval_metric' : 'AUC'\n",
    "}"
   ]
  },
  {
   "cell_type": "code",
   "execution_count": 46,
   "id": "baking-dialogue",
   "metadata": {},
   "outputs": [],
   "source": [
    "def find_params(X, y):\n",
    "    grid = {'learning_rate': [0.5, 0.1, 1e-3, 1e-5],\n",
    "            'l2_leaf_reg': [1, 5, 15],\n",
    "            'iterations' : [200]}\n",
    "    \n",
    "    model = CatBoost()\n",
    "    \n",
    "    pool = Pool(data=X, label=y, cat_features=X.dtypes[X.dtypes == 'category'].index.to_list())\n",
    "    \n",
    "    grid_search_result = model.grid_search(grid, \n",
    "                                       X=pool,\n",
    "                                       cv=5,\n",
    "                                       plot=True)\n",
    "    \n",
    "    return grid_search_result"
   ]
  },
  {
   "cell_type": "code",
   "execution_count": 251,
   "id": "E9qo9S1DLiKs",
   "metadata": {
    "id": "E9qo9S1DLiKs"
   },
   "outputs": [],
   "source": [
    "from copy import deepcopy\n",
    "def k_fold_fitter(X, y, k=5, params=None,):\n",
    "    kf   = KFold(n_splits=k, shuffle=True)\n",
    "    \n",
    "    models = []\n",
    "    aucs = []\n",
    "    \n",
    "    i = 0\n",
    "    for train_index, test_index in kf.split(X):\n",
    "        print('Done {} / {}'.format(i + 1, k))\n",
    "        \n",
    "        cat_params = deepcopy(default_parameters)\n",
    "        if params is not None:\n",
    "            cat_params = cat_params | params\n",
    "        model = CatBoost(cat_params)\n",
    "        \n",
    "        X_train, X_validate, y_train, y_validate = train_test_split(X.iloc[train_index], y.iloc[train_index], test_size=0.2)\n",
    "        X_test, y_test = X.iloc[test_index], y.iloc[test_index]\n",
    "        \n",
    "        test_pool = Pool(data=X_validate, label=y_validate, cat_features=X_validate.dtypes[X_validate.dtypes == 'category'].index.to_list())\n",
    "        \n",
    "        model.fit(X_train, \n",
    "                  y_train,\n",
    "                  eval_set=test_pool,\n",
    "                  metric_period=50,\n",
    "                  cat_features=X_train.dtypes[X_train.dtypes == 'category'].index.to_list(),\n",
    "                  verbose=True\n",
    "                 )\n",
    "        \n",
    "        aucs.append(metrics.roc_auc_score(y_test, model.predict(X_test, prediction_type='Class')))\n",
    "        models.append(model)\n",
    "        i +=1\n",
    "    \n",
    "    return models, aucs"
   ]
  },
  {
   "cell_type": "code",
   "execution_count": 48,
   "id": "7Y5q2fhML0vq",
   "metadata": {
    "colab": {
     "base_uri": "https://localhost:8080/"
    },
    "id": "7Y5q2fhML0vq",
    "outputId": "00c4de7f-4bcb-4755-e678-53bc8d8a38c3"
   },
   "outputs": [],
   "source": [
    "# grid_result = find_params(X, y)"
   ]
  },
  {
   "cell_type": "code",
   "execution_count": 49,
   "id": "progressive-starter",
   "metadata": {},
   "outputs": [],
   "source": [
    "# grid_result['params']"
   ]
  },
  {
   "cell_type": "code",
   "execution_count": 52,
   "id": "motivated-there",
   "metadata": {},
   "outputs": [],
   "source": [
    "grid_result = {}\n",
    "grid_result['params'] = {'l2_leaf_reg': 15, 'iterations': 200, 'learning_rate': 0.5}"
   ]
  },
  {
   "cell_type": "code",
   "execution_count": 53,
   "id": "dangerous-nowhere",
   "metadata": {},
   "outputs": [
    {
     "name": "stdout",
     "output_type": "stream",
     "text": [
      "Done 1 / 5\n",
      "0:\ttest: 0.6908344\tbest: 0.6908344 (0)\ttotal: 12.5s\tremaining: 41m 20s\n",
      "50:\ttest: 0.7624944\tbest: 0.7624944 (50)\ttotal: 6m 29s\tremaining: 18m 58s\n",
      "100:\ttest: 0.7702395\tbest: 0.7702395 (100)\ttotal: 12m 2s\tremaining: 11m 48s\n",
      "150:\ttest: 0.7754430\tbest: 0.7754430 (150)\ttotal: 17m 22s\tremaining: 5m 38s\n",
      "199:\ttest: 0.7785098\tbest: 0.7785098 (199)\ttotal: 22m 48s\tremaining: 0us\n",
      "\n",
      "bestTest = 0.7785098073\n",
      "bestIteration = 199\n",
      "\n",
      "Done 2 / 5\n",
      "0:\ttest: 0.6907914\tbest: 0.6907914 (0)\ttotal: 8.27s\tremaining: 27m 26s\n",
      "50:\ttest: 0.7610241\tbest: 0.7610241 (50)\ttotal: 6m 21s\tremaining: 18m 34s\n",
      "100:\ttest: 0.7690031\tbest: 0.7690031 (100)\ttotal: 12m 3s\tremaining: 11m 49s\n",
      "150:\ttest: 0.7744436\tbest: 0.7744436 (150)\ttotal: 17m 40s\tremaining: 5m 44s\n",
      "199:\ttest: 0.7777916\tbest: 0.7777916 (199)\ttotal: 23m 3s\tremaining: 0us\n",
      "\n",
      "bestTest = 0.7777915938\n",
      "bestIteration = 199\n",
      "\n",
      "Done 3 / 5\n",
      "0:\ttest: 0.6916683\tbest: 0.6916683 (0)\ttotal: 7.66s\tremaining: 25m 25s\n",
      "50:\ttest: 0.7599952\tbest: 0.7599952 (50)\ttotal: 5m 53s\tremaining: 17m 14s\n",
      "100:\ttest: 0.7691583\tbest: 0.7691583 (100)\ttotal: 11m 19s\tremaining: 11m 5s\n",
      "150:\ttest: 0.7738982\tbest: 0.7738982 (150)\ttotal: 16m 46s\tremaining: 5m 26s\n",
      "199:\ttest: 0.7772685\tbest: 0.7772685 (199)\ttotal: 22m 13s\tremaining: 0us\n",
      "\n",
      "bestTest = 0.7772685136\n",
      "bestIteration = 199\n",
      "\n",
      "Done 4 / 5\n",
      "0:\ttest: 0.6908085\tbest: 0.6908085 (0)\ttotal: 7.58s\tremaining: 25m 8s\n",
      "50:\ttest: 0.7625517\tbest: 0.7625517 (50)\ttotal: 6m 2s\tremaining: 17m 39s\n",
      "100:\ttest: 0.7708737\tbest: 0.7708737 (100)\ttotal: 11m 41s\tremaining: 11m 27s\n",
      "150:\ttest: 0.7758439\tbest: 0.7758439 (150)\ttotal: 17m 34s\tremaining: 5m 42s\n",
      "199:\ttest: 0.7791751\tbest: 0.7791751 (199)\ttotal: 23m\tremaining: 0us\n",
      "\n",
      "bestTest = 0.7791751382\n",
      "bestIteration = 199\n",
      "\n",
      "Done 5 / 5\n",
      "0:\ttest: 0.6909013\tbest: 0.6909013 (0)\ttotal: 7.16s\tremaining: 23m 44s\n",
      "50:\ttest: 0.7610165\tbest: 0.7610165 (50)\ttotal: 6m 2s\tremaining: 17m 38s\n",
      "100:\ttest: 0.7696454\tbest: 0.7696454 (100)\ttotal: 11m 33s\tremaining: 11m 19s\n",
      "150:\ttest: 0.7735328\tbest: 0.7735328 (150)\ttotal: 17m 21s\tremaining: 5m 37s\n",
      "199:\ttest: 0.7769920\tbest: 0.7769920 (199)\ttotal: 22m 24s\tremaining: 0us\n",
      "\n",
      "bestTest = 0.7769919506\n",
      "bestIteration = 199\n",
      "\n"
     ]
    }
   ],
   "source": [
    "models, aucs = k_fold_fitter(X, y, k=5, params=grid_result['params'])"
   ]
  },
  {
   "cell_type": "markdown",
   "id": "growing-attraction",
   "metadata": {},
   "source": [
    "### Средний AUC на тестовых множествах"
   ]
  },
  {
   "cell_type": "code",
   "execution_count": 54,
   "id": "ZJQaOvvvMAM0",
   "metadata": {
    "colab": {
     "base_uri": "https://localhost:8080/"
    },
    "id": "ZJQaOvvvMAM0",
    "outputId": "24cc84dd-d9cd-4bd5-80d5-f4e8e97bd922"
   },
   "outputs": [
    {
     "data": {
      "text/plain": [
       "0.7053690624757828"
      ]
     },
     "execution_count": 54,
     "metadata": {},
     "output_type": "execute_result"
    }
   ],
   "source": [
    "np.mean(aucs)"
   ]
  },
  {
   "cell_type": "code",
   "execution_count": 55,
   "id": "competitive-memorabilia",
   "metadata": {},
   "outputs": [
    {
     "name": "stdout",
     "output_type": "stream",
     "text": [
      "              precision    recall  f1-score   support\n",
      "\n",
      "           0       0.75      0.67      0.71   3661799\n",
      "           1       0.70      0.78      0.74   3714050\n",
      "\n",
      "    accuracy                           0.72   7375849\n",
      "   macro avg       0.73      0.72      0.72   7375849\n",
      "weighted avg       0.73      0.72      0.72   7375849\n",
      "\n"
     ]
    }
   ],
   "source": [
    "print(metrics.classification_report(y, models[np.argmax(aucs)].predict(X, prediction_type='Class')))"
   ]
  },
  {
   "cell_type": "code",
   "execution_count": 56,
   "id": "detected-blake",
   "metadata": {},
   "outputs": [
    {
     "data": {
      "image/png": "[encoded data removed]",
      "text/plain": [
       "<Figure size 432x288 with 2 Axes>"
      ]
     },
     "metadata": {
      "needs_background": "light"
     },
     "output_type": "display_data"
    }
   ],
   "source": [
    "shap_values = shap.TreeExplainer(models[np.argmax(aucs)]).shap_values(X)\n",
    "shap.summary_plot(shap_values, X, max_display=25, plot_size=None)"
   ]
  },
  {
   "cell_type": "code",
   "execution_count": 57,
   "id": "quick-surgeon",
   "metadata": {},
   "outputs": [],
   "source": [
    "# kaggle_dataset = test.drop('id', axis=1)\n",
    "# ids = test['id']\n",
    "# answers = np.array(models[np.argmax(aucs)].predict(kaggle_dataset, prediction_type='Probability'))[:, 1]\n",
    "# result = pd.DataFrame({'id' : ids, 'target' : answers})\n",
    "\n",
    "# result.to_csv('./kaggle.csv', index=False)"
   ]
  },
  {
   "cell_type": "markdown",
   "id": "expanded-fashion",
   "metadata": {},
   "source": [
    "## Неклассические эмбединги"
   ]
  },
  {
   "cell_type": "code",
   "execution_count": 58,
   "id": "likely-definition",
   "metadata": {},
   "outputs": [],
   "source": [
    "from gensim.models import Word2Vec"
   ]
  },
  {
   "cell_type": "code",
   "execution_count": 59,
   "id": "original-supervisor",
   "metadata": {},
   "outputs": [
    {
     "name": "stdout",
     "output_type": "stream",
     "text": [
      "<class 'pandas.core.frame.DataFrame'>\n",
      "Int64Index: 7375849 entries, 0 to 7375848\n",
      "Data columns (total 21 columns):\n",
      " #   Column                  Dtype   \n",
      "---  ------                  -----   \n",
      " 0   msno                    object  \n",
      " 1   city                    uint32  \n",
      " 2   registered_via          category\n",
      " 3   subscription_length     uint32  \n",
      " 4   song_id                 category\n",
      " 5   source_system_tab       category\n",
      " 6   source_screen_name      category\n",
      " 7   source_type             category\n",
      " 8   target                  int64   \n",
      " 9   song_length             uint32  \n",
      " 10  genre_ids               category\n",
      " 11  artist_name             category\n",
      " 12  language                category\n",
      " 13  country_code            category\n",
      " 14  reg_organisation        category\n",
      " 15  song_registration_year  category\n",
      " 16  genre_freq              float64 \n",
      " 17  language_freq           float64 \n",
      " 18  language_mode           category\n",
      " 19  genre_ids_mode          category\n",
      " 20  artist_name_mode        category\n",
      "dtypes: category(14), float64(2), int64(1), object(1), uint32(3)\n",
      "memory usage: 540.1+ MB\n"
     ]
    }
   ],
   "source": [
    "train.info()"
   ]
  },
  {
   "cell_type": "markdown",
   "id": "other-messaging",
   "metadata": {},
   "source": [
    "#### Соберем по юзерам в одну группу те песни, которые имеют таргет 1"
   ]
  },
  {
   "cell_type": "code",
   "execution_count": 60,
   "id": "cardiovascular-substitute",
   "metadata": {},
   "outputs": [],
   "source": [
    "songs_features = train[['msno', 'target', 'song_id', 'song_length', 'genre_ids', 'language', 'country_code', 'reg_organisation', 'song_registration_year']].copy()"
   ]
  },
  {
   "cell_type": "code",
   "execution_count": 89,
   "id": "sonic-albania",
   "metadata": {},
   "outputs": [],
   "source": [
    "user_to_liked_songs = songs_features[songs_features['target'] == 1].groupby('msno')['song_id'].apply(list)"
   ]
  },
  {
   "cell_type": "code",
   "execution_count": 90,
   "id": "quick-particular",
   "metadata": {},
   "outputs": [],
   "source": [
    "w2v_data = user_to_liked_songs.to_list()"
   ]
  },
  {
   "cell_type": "markdown",
   "id": "advisory-legislature",
   "metadata": {},
   "source": [
    "#### Обучим W2V"
   ]
  },
  {
   "cell_type": "code",
   "execution_count": 113,
   "id": "silent-january",
   "metadata": {},
   "outputs": [],
   "source": [
    "model = Word2Vec(w2v_data, iter=5, min_count=20, window=20)"
   ]
  },
  {
   "cell_type": "markdown",
   "id": "sacred-chemistry",
   "metadata": {},
   "source": [
    "#### Посмотрим top 10 симиларов для песни под номером 0 из 0 группы"
   ]
  },
  {
   "cell_type": "code",
   "execution_count": 114,
   "id": "urban-melbourne",
   "metadata": {},
   "outputs": [],
   "source": [
    "result = np.array(model.wv.most_similar(positive=w2v_data[0][0], topn=10))"
   ]
  },
  {
   "cell_type": "code",
   "execution_count": 115,
   "id": "million-spain",
   "metadata": {},
   "outputs": [],
   "source": [
    "songs_info = songs_features.drop(['msno', 'target'], axis=1).drop_duplicates('song_id')"
   ]
  },
  {
   "cell_type": "markdown",
   "id": "former-pakistan",
   "metadata": {},
   "source": [
    "#### Top 10"
   ]
  },
  {
   "cell_type": "code",
   "execution_count": 126,
   "id": "complicated-prague",
   "metadata": {},
   "outputs": [
    {
     "data": {
      "text/html": [
       "<div>\n",
       "<style scoped>\n",
       "    .dataframe tbody tr th:only-of-type {\n",
       "        vertical-align: middle;\n",
       "    }\n",
       "\n",
       "    .dataframe tbody tr th {\n",
       "        vertical-align: top;\n",
       "    }\n",
       "\n",
       "    .dataframe thead th {\n",
       "        text-align: right;\n",
       "    }\n",
       "</style>\n",
       "<table border=\"1\" class=\"dataframe\">\n",
       "  <thead>\n",
       "    <tr style=\"text-align: right;\">\n",
       "      <th></th>\n",
       "      <th>song_id</th>\n",
       "      <th>song_length</th>\n",
       "      <th>genre_ids</th>\n",
       "      <th>language</th>\n",
       "      <th>country_code</th>\n",
       "      <th>reg_organisation</th>\n",
       "      <th>song_registration_year</th>\n",
       "    </tr>\n",
       "  </thead>\n",
       "  <tbody>\n",
       "    <tr>\n",
       "      <th>32</th>\n",
       "      <td>vSN/XdTQtflzXi9e/JhSTr7zLppfLExJQM5zd53pt/o=</td>\n",
       "      <td>249986</td>\n",
       "      <td>465</td>\n",
       "      <td>4</td>\n",
       "      <td>HK</td>\n",
       "      <td>I11</td>\n",
       "      <td>10</td>\n",
       "    </tr>\n",
       "    <tr>\n",
       "      <th>38</th>\n",
       "      <td>VdVi5NKMJeRDsz4+3xvrpu66FNVTcQ4G26TXoUxW8bU=</td>\n",
       "      <td>256261</td>\n",
       "      <td>465</td>\n",
       "      <td>4</td>\n",
       "      <td>TW</td>\n",
       "      <td>A53</td>\n",
       "      <td>09</td>\n",
       "    </tr>\n",
       "    <tr>\n",
       "      <th>49</th>\n",
       "      <td>jFUlstiDM/0JBpQz1N1Mr1uJj0H8kiQsJjfbnx45gHs=</td>\n",
       "      <td>274285</td>\n",
       "      <td>465</td>\n",
       "      <td>4</td>\n",
       "      <td>TW</td>\n",
       "      <td>D95</td>\n",
       "      <td>15</td>\n",
       "    </tr>\n",
       "    <tr>\n",
       "      <th>52</th>\n",
       "      <td>+Sm75wnBf/sjm/QMUAFx8N+Ae04kWCXGlgH50tTeM6c=</td>\n",
       "      <td>271255</td>\n",
       "      <td>465</td>\n",
       "      <td>4</td>\n",
       "      <td>TW</td>\n",
       "      <td>A45</td>\n",
       "      <td>16</td>\n",
       "    </tr>\n",
       "    <tr>\n",
       "      <th>53</th>\n",
       "      <td>k+ybPqohmGJbKnPkzygHMStRDB6zBfmthlocn1khV1Q=</td>\n",
       "      <td>293477</td>\n",
       "      <td>465</td>\n",
       "      <td>4</td>\n",
       "      <td>HK</td>\n",
       "      <td>F66</td>\n",
       "      <td>98</td>\n",
       "    </tr>\n",
       "    <tr>\n",
       "      <th>94</th>\n",
       "      <td>y/rsZ9DC7FwK5F2PK2D5mj+aOBUJAjuu3dZ14NgE0vM=</td>\n",
       "      <td>320470</td>\n",
       "      <td>465</td>\n",
       "      <td>4</td>\n",
       "      <td>TW</td>\n",
       "      <td>B67</td>\n",
       "      <td>10</td>\n",
       "    </tr>\n",
       "    <tr>\n",
       "      <th>112</th>\n",
       "      <td>OtqgQ+4mkx8W1JApMaEVkcnTZW5DYV3WmXWuXB8dmeI=</td>\n",
       "      <td>277849</td>\n",
       "      <td>465</td>\n",
       "      <td>4</td>\n",
       "      <td>HK</td>\n",
       "      <td>D45</td>\n",
       "      <td>02</td>\n",
       "    </tr>\n",
       "    <tr>\n",
       "      <th>117</th>\n",
       "      <td>KxxFN09YQwSN0eAJSUf2xa5ZKjyZmX3nIVKM+zKxq6Q=</td>\n",
       "      <td>275644</td>\n",
       "      <td>465</td>\n",
       "      <td>4</td>\n",
       "      <td>TW</td>\n",
       "      <td>K23</td>\n",
       "      <td>13</td>\n",
       "    </tr>\n",
       "    <tr>\n",
       "      <th>139</th>\n",
       "      <td>GFWjz4apE8zMiXe6wc0qCjr+DbK9BFkwo/rr+FsNm+g=</td>\n",
       "      <td>282070</td>\n",
       "      <td>465</td>\n",
       "      <td>4</td>\n",
       "      <td>GB</td>\n",
       "      <td>PS8</td>\n",
       "      <td>15</td>\n",
       "    </tr>\n",
       "    <tr>\n",
       "      <th>145</th>\n",
       "      <td>l71bGvOgjZIJQHa+E1GW7L5QWYSliCUKy+Hg3SmxzOE=</td>\n",
       "      <td>261328</td>\n",
       "      <td>465</td>\n",
       "      <td>4</td>\n",
       "      <td>TW</td>\n",
       "      <td>A53</td>\n",
       "      <td>14</td>\n",
       "    </tr>\n",
       "  </tbody>\n",
       "</table>\n",
       "</div>"
      ],
      "text/plain": [
       "                                          song_id  song_length genre_ids  \\\n",
       "32   vSN/XdTQtflzXi9e/JhSTr7zLppfLExJQM5zd53pt/o=       249986       465   \n",
       "38   VdVi5NKMJeRDsz4+3xvrpu66FNVTcQ4G26TXoUxW8bU=       256261       465   \n",
       "49   jFUlstiDM/0JBpQz1N1Mr1uJj0H8kiQsJjfbnx45gHs=       274285       465   \n",
       "52   +Sm75wnBf/sjm/QMUAFx8N+Ae04kWCXGlgH50tTeM6c=       271255       465   \n",
       "53   k+ybPqohmGJbKnPkzygHMStRDB6zBfmthlocn1khV1Q=       293477       465   \n",
       "94   y/rsZ9DC7FwK5F2PK2D5mj+aOBUJAjuu3dZ14NgE0vM=       320470       465   \n",
       "112  OtqgQ+4mkx8W1JApMaEVkcnTZW5DYV3WmXWuXB8dmeI=       277849       465   \n",
       "117  KxxFN09YQwSN0eAJSUf2xa5ZKjyZmX3nIVKM+zKxq6Q=       275644       465   \n",
       "139  GFWjz4apE8zMiXe6wc0qCjr+DbK9BFkwo/rr+FsNm+g=       282070       465   \n",
       "145  l71bGvOgjZIJQHa+E1GW7L5QWYSliCUKy+Hg3SmxzOE=       261328       465   \n",
       "\n",
       "    language country_code reg_organisation song_registration_year  \n",
       "32         4           HK              I11                     10  \n",
       "38         4           TW              A53                     09  \n",
       "49         4           TW              D95                     15  \n",
       "52         4           TW              A45                     16  \n",
       "53         4           HK              F66                     98  \n",
       "94         4           TW              B67                     10  \n",
       "112        4           HK              D45                     02  \n",
       "117        4           TW              K23                     13  \n",
       "139        4           GB              PS8                     15  \n",
       "145        4           TW              A53                     14  "
      ]
     },
     "execution_count": 126,
     "metadata": {},
     "output_type": "execute_result"
    }
   ],
   "source": [
    "songs_info[songs_info['song_id'].isin(result[:, 0])]"
   ]
  },
  {
   "cell_type": "markdown",
   "id": "civil-granny",
   "metadata": {},
   "source": [
    "#### Трек, для которого выведены симилары"
   ]
  },
  {
   "cell_type": "code",
   "execution_count": 127,
   "id": "resident-excitement",
   "metadata": {},
   "outputs": [
    {
     "data": {
      "text/html": [
       "<div>\n",
       "<style scoped>\n",
       "    .dataframe tbody tr th:only-of-type {\n",
       "        vertical-align: middle;\n",
       "    }\n",
       "\n",
       "    .dataframe tbody tr th {\n",
       "        vertical-align: top;\n",
       "    }\n",
       "\n",
       "    .dataframe thead th {\n",
       "        text-align: right;\n",
       "    }\n",
       "</style>\n",
       "<table border=\"1\" class=\"dataframe\">\n",
       "  <thead>\n",
       "    <tr style=\"text-align: right;\">\n",
       "      <th></th>\n",
       "      <th>song_id</th>\n",
       "      <th>song_length</th>\n",
       "      <th>genre_ids</th>\n",
       "      <th>language</th>\n",
       "      <th>country_code</th>\n",
       "      <th>reg_organisation</th>\n",
       "      <th>song_registration_year</th>\n",
       "    </tr>\n",
       "  </thead>\n",
       "  <tbody>\n",
       "    <tr>\n",
       "      <th>39</th>\n",
       "      <td>35dx60z4m4+Lg+qIS0l2A8vspbthqnpTylWUu51jW+4=</td>\n",
       "      <td>275017</td>\n",
       "      <td>465</td>\n",
       "      <td>4</td>\n",
       "      <td>TW</td>\n",
       "      <td>D97</td>\n",
       "      <td>15</td>\n",
       "    </tr>\n",
       "  </tbody>\n",
       "</table>\n",
       "</div>"
      ],
      "text/plain": [
       "                                         song_id  song_length genre_ids  \\\n",
       "39  35dx60z4m4+Lg+qIS0l2A8vspbthqnpTylWUu51jW+4=       275017       465   \n",
       "\n",
       "   language country_code reg_organisation song_registration_year  \n",
       "39        4           TW              D97                     15  "
      ]
     },
     "execution_count": 127,
     "metadata": {},
     "output_type": "execute_result"
    }
   ],
   "source": [
    "songs_info[songs_info['song_id'] == w2v_data[0][0]]"
   ]
  },
  {
   "cell_type": "markdown",
   "id": "raising-turkish",
   "metadata": {},
   "source": [
    "#### Видно, что в топе симиларов песни с таким же жанром/языком/country_code"
   ]
  },
  {
   "cell_type": "markdown",
   "id": "accessible-russell",
   "metadata": {},
   "source": [
    "## Построим рекомендательную систему на основе W2V"
   ]
  },
  {
   "cell_type": "markdown",
   "id": "proved-sponsorship",
   "metadata": {},
   "source": [
    "#### Будем считать user_vector как средний вектор песен, которые юзеру понравились (и которые есть в словаре). Брать скалярное произведение с песней, которую хотим предсказать."
   ]
  },
  {
   "cell_type": "markdown",
   "id": "sudden-chain",
   "metadata": {},
   "source": [
    "#### В качестве предложений для w2v возьмем песни, что понравились юзерам (для каждого юзера) + песни одного жанра + песни от одного артиста."
   ]
  },
  {
   "cell_type": "code",
   "execution_count": 283,
   "id": "colored-violin",
   "metadata": {},
   "outputs": [],
   "source": [
    "from tqdm import tqdm\n",
    "from collections import defaultdict\n",
    "\n",
    "def get_w2v_model(data):\n",
    "    model = Word2Vec(data, iter=30, min_count=15, window=1000, negative=20)\n",
    "    return model\n",
    "\n",
    "def get_w2v_predictions(model, users_info, all_data):\n",
    "    pred_score = lambda x, y: np.dot(x, y)\n",
    "    zero_vector = np.array([0] * model.vector_size)\n",
    "    songs_vectors = defaultdict(lambda: zero_vector)\n",
    "    \n",
    "    all_answers = []\n",
    "    all_predicted = []\n",
    "    \n",
    "    for key in model.wv.vocab.keys():\n",
    "        songs_vectors[key] = model.wv[key]\n",
    "    for (user_liked_songs, to_predict) in tqdm(users_info):\n",
    "        if len(user_liked_songs) == 0:\n",
    "            user_vector = zero_vector\n",
    "        else:\n",
    "            songs = user_liked_songs.iloc[0]['song_id']\n",
    "            songs = list(filter(lambda song: song in model.wv.vocab, songs))\n",
    "            if len(songs) > 0:\n",
    "                user_vector = np.mean(model.wv[songs], axis=0)\n",
    "            else:\n",
    "                user_vector = zero_vector\n",
    "        songs = to_predict['song_id'].values.to_list()\n",
    "        ans = list(map(lambda song: pred_score(user_vector, songs_vectors[song]), songs))\n",
    "        all_predicted = all_predicted + ans\n",
    "        all_answers = all_answers + to_predict['answer'].values.tolist()\n",
    "        \n",
    "\n",
    "    return all_answers, all_predicted\n",
    "\n",
    "def get_songs(X, y, liked=False):\n",
    "    return pd.DataFrame(X[y == int(liked)].groupby('msno')['song_id'].apply(list))\n",
    "\n",
    "def get_train_data(X, y):\n",
    "    by_user = X[y == 1].groupby('msno')['song_id'].apply(list)\n",
    "    by_genre = X[y == 1].groupby('msno')['genre_ids'].apply(list)\n",
    "    by_artist = X[y == 1].groupby('msno')['artist_name'].apply(list)\n",
    "    return pd.concat([by_user, by_genre, by_artist])"
   ]
  },
  {
   "cell_type": "code",
   "execution_count": 284,
   "id": "initial-viewer",
   "metadata": {},
   "outputs": [],
   "source": [
    "def k_fold_fitter_w2v(X, y, k=3):\n",
    "    kf   = KFold(n_splits=k, shuffle=True)\n",
    "    \n",
    "    models = []\n",
    "    aucs = []\n",
    "    \n",
    "    i = 0\n",
    "    for train_index, test_index in kf.split(X):\n",
    "        print('Done {} / {}'.format(i + 1, k))\n",
    "        \n",
    "        X_train, y_train = X.iloc[train_index].copy(), y.iloc[train_index]\n",
    "        X_test, y_test = X.iloc[test_index].copy(), y.iloc[test_index]\n",
    "        X_test['answer'] = y_test\n",
    "        \n",
    "        model = get_w2v_model(get_train_data(X_train.copy(), y_train))\n",
    "        \n",
    "        liked = get_songs(X_train, y_train, liked=True).reset_index()\n",
    "        \n",
    "        test_data = []\n",
    "        \n",
    "        for user_id, to_predict in X_test.groupby('msno'):\n",
    "            test_data.append((liked[liked['msno'] == user_id], \n",
    "                              to_predict[['song_id', 'answer']].copy()))\n",
    "            \n",
    "        \n",
    "        y_true, y_pred = get_w2v_predictions(model, test_data, X_test)\n",
    "        \n",
    "        aucs.append(metrics.roc_auc_score(y_true, y_pred))\n",
    "        print(aucs[i])\n",
    "        models.append(model)\n",
    "        i +=1\n",
    "    \n",
    "    return models, aucs"
   ]
  },
  {
   "cell_type": "code",
   "execution_count": 285,
   "id": "narrative-netherlands",
   "metadata": {},
   "outputs": [
    {
     "name": "stdout",
     "output_type": "stream",
     "text": [
      "Done 1 / 3\n"
     ]
    },
    {
     "name": "stderr",
     "output_type": "stream",
     "text": [
      "100%|██████████| 29469/29469 [11:34<00:00, 42.41it/s]\n"
     ]
    },
    {
     "name": "stdout",
     "output_type": "stream",
     "text": [
      "0.607108086220153\n",
      "Done 2 / 3\n"
     ]
    },
    {
     "name": "stderr",
     "output_type": "stream",
     "text": [
      "100%|██████████| 29475/29475 [10:58<00:00, 44.78it/s]\n"
     ]
    },
    {
     "name": "stdout",
     "output_type": "stream",
     "text": [
      "0.6063942035116824\n",
      "Done 3 / 3\n"
     ]
    },
    {
     "name": "stderr",
     "output_type": "stream",
     "text": [
      "100%|██████████| 29483/29483 [11:20<00:00, 43.34it/s]\n"
     ]
    },
    {
     "name": "stdout",
     "output_type": "stream",
     "text": [
      "0.6070556751558804\n",
      "CPU times: user 2h 21min 30s, sys: 5min 11s, total: 2h 26min 42s\n",
      "Wall time: 1h 16min 44s\n"
     ]
    }
   ],
   "source": [
    "%%time\n",
    "\n",
    "w2v_models, w2v_aucs = k_fold_fitter_w2v(train.drop('target', axis=1), train['target'])"
   ]
  },
  {
   "cell_type": "markdown",
   "id": "stupid-abraham",
   "metadata": {},
   "source": [
    "#### Получили вот такой результат."
   ]
  },
  {
   "cell_type": "code",
   "execution_count": 286,
   "id": "specific-robinson",
   "metadata": {},
   "outputs": [
    {
     "data": {
      "text/plain": [
       "0.606852654962572"
      ]
     },
     "execution_count": 286,
     "metadata": {},
     "output_type": "execute_result"
    }
   ],
   "source": [
    "np.mean(w2v_aucs)"
   ]
  },
  {
   "cell_type": "markdown",
   "id": "organic-basketball",
   "metadata": {},
   "source": [
    "## Теперь попробуем использовать предсказания w2v в качестве фичей для gbdt."
   ]
  },
  {
   "cell_type": "code",
   "execution_count": 287,
   "id": "identical-blowing",
   "metadata": {},
   "outputs": [],
   "source": [
    "model = get_w2v_model(get_train_data(train.copy(), train['target']))"
   ]
  },
  {
   "cell_type": "code",
   "execution_count": 288,
   "id": "meaning-shelter",
   "metadata": {},
   "outputs": [],
   "source": [
    "liked = get_songs(train, train['target'], liked=True).reset_index()\n",
    "        \n",
    "user_wise_split = []\n",
    "users = {}\n",
    "        \n",
    "for user_id, to_predict in train.groupby('msno'):\n",
    "    users[user_id] = to_predict[['song_id', 'target']]\n",
    "    user_wise_split.append((liked[liked['msno'] == user_id], \n",
    "                      to_predict[['song_id', 'target']].rename(columns={'target' : 'answer'})))"
   ]
  },
  {
   "cell_type": "code",
   "execution_count": 289,
   "id": "conventional-separation",
   "metadata": {},
   "outputs": [
    {
     "name": "stderr",
     "output_type": "stream",
     "text": [
      "100%|██████████| 30755/30755 [39:12<00:00, 13.07it/s]\n"
     ]
    }
   ],
   "source": [
    "y_true, y_pred = get_w2v_predictions(model, user_wise_split, train)"
   ]
  },
  {
   "cell_type": "code",
   "execution_count": 290,
   "id": "entertaining-adobe",
   "metadata": {},
   "outputs": [
    {
     "name": "stderr",
     "output_type": "stream",
     "text": [
      "100%|█████████▉| 30754/30755 [1:36:20<00:00,  2.82it/s]\n",
      "A value is trying to be set on a copy of a slice from a DataFrame.\n",
      "Try using .loc[row_indexer,col_indexer] = value instead\n",
      "\n",
      "See the caveats in the documentation: https://pandas.pydata.org/pandas-docs/stable/user_guide/indexing.html#returning-a-view-versus-a-copy\n",
      "\n",
      "A value is trying to be set on a copy of a slice from a DataFrame.\n",
      "Try using .loc[row_indexer,col_indexer] = value instead\n",
      "\n",
      "See the caveats in the documentation: https://pandas.pydata.org/pandas-docs/stable/user_guide/indexing.html#returning-a-view-versus-a-copy\n",
      "\n",
      "A value is trying to be set on a copy of a slice from a DataFrame.\n",
      "Try using .loc[row_indexer,col_indexer] = value instead\n",
      "\n",
      "See the caveats in the documentation: https://pandas.pydata.org/pandas-docs/stable/user_guide/indexing.html#returning-a-view-versus-a-copy\n",
      "100%|██████████| 30755/30755 [1:36:21<00:00,  5.32it/s]\n"
     ]
    }
   ],
   "source": [
    "shift = 0\n",
    "\n",
    "user_column = []\n",
    "song_column = []\n",
    "predicted_column = []\n",
    "\n",
    "for user in tqdm(users.keys()):\n",
    "    users[user].loc[:, 'w2v_predict'] = y_pred[shift:shift + len(users[user])]\n",
    "    users[user].loc[:, 'msno'] = user\n",
    "    shift += len(users[user])\n",
    "    \n",
    "    user_column = user_column + users[user]['msno'].to_list()\n",
    "    song_column = song_column + users[user]['song_id'].to_list()\n",
    "    predicted_column = predicted_column + users[user]['w2v_predict'].to_list()"
   ]
  },
  {
   "cell_type": "code",
   "execution_count": 291,
   "id": "bibliographic-offering",
   "metadata": {},
   "outputs": [],
   "source": [
    "w2v_train = pd.DataFrame({'msno' : user_column, 'song_id' : song_column, 'w2v_prediction' : predicted_column})"
   ]
  },
  {
   "cell_type": "code",
   "execution_count": 292,
   "id": "unlimited-cosmetic",
   "metadata": {},
   "outputs": [],
   "source": [
    "X_w2v = pd.merge(train, w2v_train, on=['msno', 'song_id'], how='inner')"
   ]
  },
  {
   "cell_type": "code",
   "execution_count": 293,
   "id": "residential-directory",
   "metadata": {},
   "outputs": [],
   "source": [
    "X_w2v['song_id'] = X_w2v['song_id'].astype('category')\n",
    "X_w2v['city'] = X_w2v['city'].astype('category')"
   ]
  },
  {
   "cell_type": "code",
   "execution_count": 294,
   "id": "aging-stranger",
   "metadata": {},
   "outputs": [],
   "source": [
    "y_w2v = X_w2v['target']\n",
    "X_w2v = X_w2v.drop(['target', 'msno'], axis=1)"
   ]
  },
  {
   "cell_type": "code",
   "execution_count": 295,
   "id": "democratic-metro",
   "metadata": {},
   "outputs": [
    {
     "name": "stdout",
     "output_type": "stream",
     "text": [
      "Done 1 / 5\n",
      "0:\ttest: 0.7170669\tbest: 0.7170669 (0)\ttotal: 14.1s\tremaining: 46m 52s\n",
      "50:\ttest: 0.7908679\tbest: 0.7908679 (50)\ttotal: 8m 14s\tremaining: 24m 4s\n",
      "100:\ttest: 0.7995854\tbest: 0.7995854 (100)\ttotal: 16m 30s\tremaining: 16m 11s\n",
      "150:\ttest: 0.8042856\tbest: 0.8042856 (150)\ttotal: 23m 42s\tremaining: 7m 41s\n",
      "199:\ttest: 0.8072223\tbest: 0.8072223 (199)\ttotal: 31m 34s\tremaining: 0us\n",
      "\n",
      "bestTest = 0.8072223498\n",
      "bestIteration = 199\n",
      "\n",
      "Done 2 / 5\n",
      "0:\ttest: 0.7168548\tbest: 0.7168548 (0)\ttotal: 14.5s\tremaining: 47m 56s\n",
      "50:\ttest: 0.7908496\tbest: 0.7908496 (50)\ttotal: 7m 57s\tremaining: 23m 15s\n",
      "100:\ttest: 0.7986304\tbest: 0.7986304 (100)\ttotal: 15m 58s\tremaining: 15m 39s\n",
      "150:\ttest: 0.8027477\tbest: 0.8027477 (150)\ttotal: 23m 54s\tremaining: 7m 45s\n",
      "199:\ttest: 0.8061269\tbest: 0.8061269 (199)\ttotal: 31m 31s\tremaining: 0us\n",
      "\n",
      "bestTest = 0.8061269398\n",
      "bestIteration = 199\n",
      "\n",
      "Done 3 / 5\n",
      "0:\ttest: 0.7175816\tbest: 0.7175816 (0)\ttotal: 14.5s\tremaining: 47m 58s\n",
      "50:\ttest: 0.7902708\tbest: 0.7902708 (50)\ttotal: 7m 26s\tremaining: 21m 45s\n",
      "100:\ttest: 0.7995485\tbest: 0.7995485 (100)\ttotal: 14m 43s\tremaining: 14m 26s\n",
      "150:\ttest: 0.8044132\tbest: 0.8044132 (150)\ttotal: 22m 4s\tremaining: 7m 9s\n",
      "199:\ttest: 0.8072221\tbest: 0.8072221 (199)\ttotal: 30m 17s\tremaining: 0us\n",
      "\n",
      "bestTest = 0.8072221155\n",
      "bestIteration = 199\n",
      "\n",
      "Done 4 / 5\n",
      "0:\ttest: 0.7164997\tbest: 0.7164997 (0)\ttotal: 15s\tremaining: 49m 42s\n",
      "50:\ttest: 0.7909575\tbest: 0.7909575 (50)\ttotal: 8m 8s\tremaining: 23m 47s\n",
      "100:\ttest: 0.7994490\tbest: 0.7994490 (100)\ttotal: 15m 37s\tremaining: 15m 18s\n",
      "150:\ttest: 0.8034481\tbest: 0.8034481 (150)\ttotal: 22m 27s\tremaining: 7m 17s\n",
      "199:\ttest: 0.8064797\tbest: 0.8064797 (199)\ttotal: 28m 40s\tremaining: 0us\n",
      "\n",
      "bestTest = 0.8064797282\n",
      "bestIteration = 199\n",
      "\n",
      "Done 5 / 5\n",
      "0:\ttest: 0.7152928\tbest: 0.7152928 (0)\ttotal: 10.5s\tremaining: 34m 56s\n",
      "50:\ttest: 0.7903847\tbest: 0.7903847 (50)\ttotal: 6m 8s\tremaining: 17m 55s\n",
      "100:\ttest: 0.7990196\tbest: 0.7990196 (100)\ttotal: 13m 4s\tremaining: 12m 49s\n",
      "150:\ttest: 0.8036555\tbest: 0.8036555 (150)\ttotal: 19m 38s\tremaining: 6m 22s\n",
      "199:\ttest: 0.8066578\tbest: 0.8066578 (199)\ttotal: 25m 39s\tremaining: 0us\n",
      "\n",
      "bestTest = 0.8066577543\n",
      "bestIteration = 199\n",
      "\n"
     ]
    }
   ],
   "source": [
    "w2v_models, w2v_aucs = k_fold_fitter(X_w2v, y_w2v, k=5, params=grid_result['params'])"
   ]
  },
  {
   "cell_type": "code",
   "execution_count": 296,
   "id": "fantastic-obligation",
   "metadata": {},
   "outputs": [
    {
     "data": {
      "text/plain": [
       "0.7278504895800062"
      ]
     },
     "execution_count": 296,
     "metadata": {},
     "output_type": "execute_result"
    }
   ],
   "source": [
    "np.mean(w2v_aucs)"
   ]
  },
  {
   "cell_type": "code",
   "execution_count": 297,
   "id": "afraid-stone",
   "metadata": {},
   "outputs": [
    {
     "name": "stdout",
     "output_type": "stream",
     "text": [
      "              precision    recall  f1-score   support\n",
      "\n",
      "           0       0.77      0.72      0.74   3661799\n",
      "           1       0.74      0.78      0.76   3714050\n",
      "\n",
      "    accuracy                           0.75   7375849\n",
      "   macro avg       0.75      0.75      0.75   7375849\n",
      "weighted avg       0.75      0.75      0.75   7375849\n",
      "\n"
     ]
    }
   ],
   "source": [
    "print(metrics.classification_report(y, w2v_models[np.argmax(w2v_aucs)].predict(X_w2v, prediction_type='Class')))"
   ]
  },
  {
   "cell_type": "code",
   "execution_count": 298,
   "id": "instrumental-bermuda",
   "metadata": {},
   "outputs": [
    {
     "data": {
      "image/png": "[encoded data removed]",
      "text/plain": [
       "<Figure size 432x288 with 2 Axes>"
      ]
     },
     "metadata": {
      "needs_background": "light"
     },
     "output_type": "display_data"
    }
   ],
   "source": [
    "shap_values = shap.TreeExplainer(w2v_models[np.argmax(w2v_aucs)]).shap_values(X_w2v)\n",
    "shap.summary_plot(shap_values, X_w2v, max_display=25, plot_size=None)"
   ]
  },
  {
   "cell_type": "markdown",
   "id": "spiritual-witness",
   "metadata": {},
   "source": [
    "#### Как видим,предсказания от W2V улучшили результат и сама фича стала топ-1 по вкладу в финальный результат модели."
   ]
  }
 ],
 "metadata": {
  "accelerator": "GPU",
  "colab": {
   "collapsed_sections": [],
   "name": "GBDT-2.ipynb",
   "provenance": [],
   "toc_visible": true
  },
  "kernelspec": {
   "display_name": "Python 3",
   "language": "python",
   "name": "python3"
  },
  "language_info": {
   "codemirror_mode": {
    "name": "ipython",
    "version": 3
   },
   "file_extension": ".py",
   "mimetype": "text/x-python",
   "name": "python",
   "nbconvert_exporter": "python",
   "pygments_lexer": "ipython3",
   "version": "3.9.0b3"
  }
 },
 "nbformat": 4,
 "nbformat_minor": 5
}
